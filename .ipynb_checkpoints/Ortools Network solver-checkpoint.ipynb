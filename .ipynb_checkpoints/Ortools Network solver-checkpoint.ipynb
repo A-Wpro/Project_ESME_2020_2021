{
 "cells": [
  {
   "cell_type": "markdown",
   "metadata": {
    "id": "CFpE0I5jWsxF"
   },
   "source": [
    "##Why should we or not use minimun cost flow :\n",
    "  **pro** :\n",
    "\n",
    "        -Can find the best way to minimize the cost(time) \n",
    "        -Can be put in a complex algorithm to solve our problem\n",
    "        \n",
    "  **con** :\n",
    "\n",
    "        - We need to know all the environments at each iterations\n",
    "        - Maybe not compatible with Onos ? wait and see\n",
    "      "
   ]
  },
  {
   "cell_type": "code",
   "execution_count": 1,
   "metadata": {
    "colab": {
     "base_uri": "https://localhost:8080/"
    },
    "executionInfo": {
     "elapsed": 3178,
     "status": "ok",
     "timestamp": 1606138601621,
     "user": {
      "displayName": "Lottot YT",
      "photoUrl": "https://lh3.googleusercontent.com/a-/AOh14GgCy4rBSoNPKlnDN_GfAYVY1gJ0ty7H2RuJ6t0abQ=s64",
      "userId": "05681883986304279468"
     },
     "user_tz": -60
    },
    "id": "F4UMpDvCUUGE",
    "outputId": "871ad703-74c4-4378-af31-23291dcf9f95"
   },
   "outputs": [
    {
     "name": "stdout",
     "output_type": "stream",
     "text": [
      "Requirement already satisfied: ortools in /usr/local/lib/python3.6/dist-packages (8.0.8283)\n",
      "Requirement already satisfied: six>=1.10 in /usr/local/lib/python3.6/dist-packages (from ortools) (1.15.0)\n",
      "Requirement already satisfied: protobuf>=3.13.0 in /usr/local/lib/python3.6/dist-packages (from ortools) (3.14.0)\n",
      "Version: 8.0.8283\n"
     ]
    }
   ],
   "source": [
    "!pip install ortools\n",
    "import ortools\n",
    "print('Version:', ortools.__version__)"
   ]
  },
  {
   "cell_type": "markdown",
   "metadata": {
    "id": "4EpMmUvsYeAA"
   },
   "source": []
  },
  {
   "cell_type": "code",
   "execution_count": 4,
   "metadata": {
    "colab": {
     "base_uri": "https://localhost:8080/"
    },
    "executionInfo": {
     "elapsed": 599,
     "status": "ok",
     "timestamp": 1606139117714,
     "user": {
      "displayName": "Lottot YT",
      "photoUrl": "https://lh3.googleusercontent.com/a-/AOh14GgCy4rBSoNPKlnDN_GfAYVY1gJ0ty7H2RuJ6t0abQ=s64",
      "userId": "05681883986304279468"
     },
     "user_tz": -60
    },
    "id": "P4a-PivsTB84",
    "outputId": "ca9de019-e921-4a27-ab48-5d2105777581"
   },
   "outputs": [
    {
     "name": "stdout",
     "output_type": "stream",
     "text": [
      "Minimum cost: 150\n",
      "\n",
      "  Arc    Flow / Capacity  Cost\n",
      "0 -> 1    12  /  15        48\n",
      "0 -> 2     8  /   8        32\n",
      "1 -> 2     8  /  20        16\n",
      "1 -> 3     4  /   4         8\n",
      "1 -> 4     0  /  10         0\n",
      "2 -> 3    12  /  15        12\n",
      "2 -> 4     4  /   4        12\n",
      "3 -> 4    11  /  20        22\n",
      "4 -> 2     0  /   5         0\n"
     ]
    }
   ],
   "source": [
    "\n",
    "\n",
    "from __future__ import print_function\n",
    "from ortools.graph import pywrapgraph\n",
    "\n",
    "def main():\n",
    "  \"\"\"MinCostFlow simple interface example.\"\"\"\n",
    "\n",
    "  # Define four parallel arrays: start_nodes, end_nodes, capacities, and unit costs\n",
    "  # between each pair. For instance, the arc from node 0 to node 1 has a\n",
    "  # capacity of 15 and a unit cost of 4.\n",
    "\n",
    "  start_nodes = [ 0, 0,  1, 1,  1,  2, 2,  3, 4]\n",
    "  end_nodes   = [ 1, 2,  2, 3,  4,  3, 4,  4, 2]\n",
    "  capacities  = [15, 8, 20, 4, 10, 15, 4, 20, 5]\n",
    "  unit_costs  = [ 4, 4,  2, 2,  6,  1, 3,  2, 3]\n",
    "\n",
    "  # Define an array of supplies at each node.\n",
    "\n",
    "  supplies = [20, 0, 0, -5, -15]\n",
    "\n",
    "\n",
    "  # Instantiate a SimpleMinCostFlow solver.\n",
    "  min_cost_flow = pywrapgraph.SimpleMinCostFlow()\n",
    "\n",
    "  # Add each arc.\n",
    "  for i in range(0, len(start_nodes)):\n",
    "    min_cost_flow.AddArcWithCapacityAndUnitCost(start_nodes[i], end_nodes[i],\n",
    "                                                capacities[i], unit_costs[i])\n",
    "\n",
    "  # Add node supplies.\n",
    "\n",
    "  for i in range(0, len(supplies)):\n",
    "    min_cost_flow.SetNodeSupply(i, supplies[i])\n",
    "\n",
    "\n",
    "  # Find the minimum cost flow between node 0 and node 4.\n",
    "  if min_cost_flow.Solve() == min_cost_flow.OPTIMAL:\n",
    "    print('Minimum cost:', min_cost_flow.OptimalCost())\n",
    "    print('')\n",
    "    print('  Arc    Flow / Capacity  Cost')\n",
    "    for i in range(min_cost_flow.NumArcs()):\n",
    "      cost = min_cost_flow.Flow(i) * min_cost_flow.UnitCost(i)\n",
    "      print('%1s -> %1s   %3s  / %3s       %3s' % (\n",
    "          min_cost_flow.Tail(i),\n",
    "          min_cost_flow.Head(i),\n",
    "          min_cost_flow.Flow(i),\n",
    "          min_cost_flow.Capacity(i),\n",
    "          cost))\n",
    "  else:\n",
    "    print('There was an issue with the min cost flow input.')\n",
    "\n",
    "if __name__ == '__main__':\n",
    "  main()"
   ]
  }
 ],
 "metadata": {
  "colab": {
   "authorship_tag": "ABX9TyMQ0VKTcP6QV/9+ct0s1r73",
   "collapsed_sections": [],
   "name": "Ortools Network solver.ipynb",
   "provenance": []
  },
  "kernelspec": {
   "display_name": "Python 3",
   "language": "python",
   "name": "python3"
  },
  "language_info": {
   "codemirror_mode": {
    "name": "ipython",
    "version": 3
   },
   "file_extension": ".py",
   "mimetype": "text/x-python",
   "name": "python",
   "nbconvert_exporter": "python",
   "pygments_lexer": "ipython3",
   "version": "3.7.6"
  }
 },
 "nbformat": 4,
 "nbformat_minor": 1
}
