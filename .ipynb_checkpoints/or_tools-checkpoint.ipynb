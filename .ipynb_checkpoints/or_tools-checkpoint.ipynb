{
 "cells": [
  {
   "cell_type": "code",
   "execution_count": null,
   "metadata": {
    "colab": {
     "base_uri": "https://localhost:8080/",
     "height": 85
    },
    "executionInfo": {
     "elapsed": 2913,
     "status": "ok",
     "timestamp": 1603404486892,
     "user": {
      "displayName": "Waïl BENFATMA",
      "photoUrl": "https://lh3.googleusercontent.com/a-/AOh14GglClVYCXVnN8XbGIM-h7VIpWA0Xjxqs3NhxdQW=s64",
      "userId": "07362182303906326314"
     },
     "user_tz": -120
    },
    "id": "N_8gOp71RCV9",
    "outputId": "3d411873-3fd1-4cff-e9c9-fe44389fefad"
   },
   "outputs": [
    {
     "name": "stdout",
     "output_type": "stream",
     "text": [
      "Requirement already satisfied: ortools in /usr/local/lib/python3.6/dist-packages (8.0.8283)\n",
      "Requirement already satisfied: six>=1.10 in /usr/local/lib/python3.6/dist-packages (from ortools) (1.15.0)\n",
      "Requirement already satisfied: protobuf>=3.13.0 in /usr/local/lib/python3.6/dist-packages (from ortools) (3.13.0)\n",
      "Requirement already satisfied: setuptools in /usr/local/lib/python3.6/dist-packages (from protobuf>=3.13.0->ortools) (50.3.0)\n"
     ]
    }
   ],
   "source": [
    "!pip install ortools"
   ]
  },
  {
   "cell_type": "code",
   "execution_count": null,
   "metadata": {
    "id": "2G9B5p66Q19p"
   },
   "outputs": [],
   "source": [
    "from ortools.linear_solver import pywraplp\n",
    "\n",
    "import numpy as np"
   ]
  },
  {
   "cell_type": "code",
   "execution_count": null,
   "metadata": {
    "id": "jcyhkllDQ6k7"
   },
   "outputs": [],
   "source": [
    "# Creation du solver en utilisant OR Tools\n",
    "solver_lp = pywraplp.Solver('simple_lp_mip_program',pywraplp.Solver.CBC_MIXED_INTEGER_PROGRAMMING)\n",
    "infinity = solver_lp.infinity()"
   ]
  },
  {
   "cell_type": "code",
   "execution_count": null,
   "metadata": {
    "id": "_ZScThpURRXy"
   },
   "outputs": [],
   "source": [
    "# Matrice de capacite entre les noeuds\n",
    "capacite = np.array([26,34,78,6,26,18,52,34,18,51])\n",
    "occupation = np.array([25,34,78,6,25,18,52,34,15,51])\n",
    "ones = np.ones(10)\n",
    "\n",
    "#Var de décisions :\n",
    "#x12 variable égale à 1 si on prend le chemin de 1 vers 2 \n",
    "# Matrice des variables de decision\n",
    "x12 = solver_lp.IntVar(0.0, 1.0, 'x12')\n",
    "x13 = solver_lp.IntVar(0.0, 1.0, 'x13')\n",
    "x14 = solver_lp.IntVar(0.0, 1.0, 'x14')\n",
    "x23 = solver_lp.IntVar(0.0, 1.0, 'x23')\n",
    "x24 = solver_lp.IntVar(0.0, 1.0, 'x24')\n",
    "x34 = solver_lp.IntVar(0.0, 1.0, 'x34')\n",
    "x35 = solver_lp.IntVar(0.0, 1.0, 'x35')\n",
    "x45 = solver_lp.IntVar(0.0, 1.0, 'x45')\n",
    "x46 = solver_lp.IntVar(0.0, 1.0, 'x46')\n",
    "x56 = solver_lp.IntVar(0.0, 1.0, 'x56')\n",
    "\n",
    "x_var = np.array([x12,x13,x14,x23,x24,x34,x35,x45,x46,x56])"
   ]
  },
  {
   "cell_type": "code",
   "execution_count": null,
   "metadata": {
    "id": "zBG_HONqRer1"
   },
   "outputs": [],
   "source": [
    "# Fonction objectif\n",
    "solver_lp.Minimize(np.dot(ones,x_var))"
   ]
  },
  {
   "cell_type": "code",
   "execution_count": null,
   "metadata": {
    "id": "StTGrCP_Rw-5"
   },
   "outputs": [],
   "source": [
    "#Contraintes : \n",
    "\n",
    "#On part de 1\n",
    "solver_lp.Add(x12 + x13 + x14 == 1)\n",
    "\n",
    "#On arrive en 6\n",
    "solver_lp.Add(x46 + x56 == 1)\n",
    "\n",
    "#loi de conservation\n",
    "solver_lp.Add(x12 - x23 - x24  == 0)\n",
    "solver_lp.Add(x13 + x23 - x34 - x35 == 0)\n",
    "solver_lp.Add(x14 + x24 + x34 - x45 - x46  == 0)\n",
    "solver_lp.Add(x35 + x45 - x56 == 0)\n",
    "\n",
    "#on ne depasse pas la capa max\n",
    "for i in range(0,len(x_var)-1):\n",
    "  solver_lp.Add(x_var[i] + occupation[i]   <= capacite[i])"
   ]
  },
  {
   "cell_type": "code",
   "execution_count": null,
   "metadata": {
    "id": "Dvr5lU9YT0bT"
   },
   "outputs": [],
   "source": [
    "#Solve\n",
    "status = solver_lp.Solve()"
   ]
  },
  {
   "cell_type": "code",
   "execution_count": null,
   "metadata": {
    "colab": {
     "base_uri": "https://localhost:8080/",
     "height": 34
    },
    "executionInfo": {
     "elapsed": 563,
     "status": "ok",
     "timestamp": 1603404561045,
     "user": {
      "displayName": "Waïl BENFATMA",
      "photoUrl": "https://lh3.googleusercontent.com/a-/AOh14GglClVYCXVnN8XbGIM-h7VIpWA0Xjxqs3NhxdQW=s64",
      "userId": "07362182303906326314"
     },
     "user_tz": -120
    },
    "id": "gfzOXRynVvDW",
    "outputId": "b1edd93f-bc8b-41c5-a6fa-d0f54cf9a26e"
   },
   "outputs": [
    {
     "name": "stdout",
     "output_type": "stream",
     "text": [
      "0\n"
     ]
    }
   ],
   "source": [
    "print(status)"
   ]
  },
  {
   "cell_type": "code",
   "execution_count": null,
   "metadata": {
    "colab": {
     "base_uri": "https://localhost:8080/",
     "height": 221
    },
    "executionInfo": {
     "elapsed": 485,
     "status": "ok",
     "timestamp": 1603404561256,
     "user": {
      "displayName": "Waïl BENFATMA",
      "photoUrl": "https://lh3.googleusercontent.com/a-/AOh14GglClVYCXVnN8XbGIM-h7VIpWA0Xjxqs3NhxdQW=s64",
      "userId": "07362182303906326314"
     },
     "user_tz": -120
    },
    "id": "rM6kVxTxWCPA",
    "outputId": "551e73fd-7bea-4516-9d40-f49d3d9c0cf6"
   },
   "outputs": [
    {
     "name": "stdout",
     "output_type": "stream",
     "text": [
      "Solution:\n",
      "Objective (Distance) value = 3.0\n",
      "x12 = 1.0\n",
      "x13 = 0.0\n",
      "x14 = 0.0\n",
      "x23 = 0.0\n",
      "x24 = 1.0\n",
      "x34 = 0.0\n",
      "x35 = 0.0\n",
      "x45 = 0.0\n",
      "x46 = 1.0\n",
      "x56 = 0.0\n"
     ]
    }
   ],
   "source": [
    "#Print de la solution\n",
    "\n",
    "if status == pywraplp.Solver.OPTIMAL:\n",
    "        print('Solution:')\n",
    "        print('Objective (Distance) value =', solver_lp.Objective().Value())\n",
    "        print('x12 =', x12.solution_value())\n",
    "        print('x13 =', x13.solution_value())\n",
    "        print('x14 =', x14.solution_value())\n",
    "        print('x23 =', x23.solution_value())\n",
    "        print('x24 =', x24.solution_value())\n",
    "        print('x34 =', x34.solution_value())\n",
    "        print('x35 =', x35.solution_value())\n",
    "        print('x45 =', x45.solution_value())\n",
    "        print('x46 =', x46.solution_value())\n",
    "        print('x56 =', x56.solution_value())\n",
    "else:\n",
    "        print('The problem does not have an optimal solution.')"
   ]
  },
  {
   "cell_type": "code",
   "execution_count": null,
   "metadata": {
    "id": "lE0g5TbfWVWG"
   },
   "outputs": [],
   "source": []
  }
 ],
 "metadata": {
  "colab": {
   "authorship_tag": "ABX9TyMC3AKPUS9SCEHvNWHlHDEM",
   "name": "or_tools.ipynb",
   "provenance": []
  },
  "kernelspec": {
   "display_name": "Python 3",
   "language": "python",
   "name": "python3"
  },
  "language_info": {
   "codemirror_mode": {
    "name": "ipython",
    "version": 3
   },
   "file_extension": ".py",
   "mimetype": "text/x-python",
   "name": "python",
   "nbconvert_exporter": "python",
   "pygments_lexer": "ipython3",
   "version": "3.7.6"
  }
 },
 "nbformat": 4,
 "nbformat_minor": 1
}
