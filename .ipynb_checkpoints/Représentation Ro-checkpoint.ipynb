{
 "cells": [
  {
   "cell_type": "markdown",
   "metadata": {},
   "source": [
    "# Modélisation type RO du problème :\n"
   ]
  },
  {
   "cell_type": "markdown",
   "metadata": {},
   "source": [
    "### variables de décision: <br>\n",
    "    Paquet :\n",
    "        - Taille (Octets)\n",
    "        - Position actuel ( supplies )\n",
    "        - Destination final ( supplies )\n",
    "        \n",
    "    Connection :\n",
    "        - Source ( start_node )\n",
    "        - Destination ( end_node )\n",
    "        - Bande passante disponible ( capacities )\n",
    "        - Délai ( cost )\n",
    "        - Revenue ( earnings ) ?\n",
    "        - Opérateur ( operator ) ?\n",
    "       \n",
    "    \"Paquet\" peut prendre une connection, si et seulement si, \"Position actuel\" == \"Source\" de \"Connection\"\n",
    "        -> \"prendre une connection\" = Position actuel <- \"Destination\" de \"Connection\"\n",
    "                                    = Bande passante disponible <- (Bande passante disponible - Taille) pour \"Délai\" secondes \n",
    "    Si \"Taille\" de  \"Paquet\" > \"Bande passante disponible\" de \"Connection\" -> perte d'informations\n",
    "        -> \"perte d'information\" = Taille <- Taille - Bande passante dispoinble\n",
    "        \n",
    "    Implémentation d'élément aléatoire ? (autres paquets, routeurs qui explosent ect....)\n",
    "\n",
    "    \n",
    "### contraintes:\n",
    "    - Perte d'information minimal (< 99%)\n",
    "    - Délai totaux minimal\n",
    "    - \"Revenue maximisé\" en fonction de \"Opérateur\" ?\n",
    "    \n",
    "### objectifs:\n",
    "    - Arriver a \"Destination final\"\n",
    "    "
   ]
  },
  {
   "cell_type": "code",
   "execution_count": null,
   "metadata": {},
   "outputs": [],
   "source": []
  },
  {
   "cell_type": "markdown",
   "metadata": {},
   "source": [
    "## Type de résolution possible:\n",
    "\n",
    "### Purement RO:\n",
    " **pro** :\n",
    "        -Can find the best way to minimize the cost(time) \n",
    "        -Can be put in a complex algorithm to solve our problem\n",
    "        \n",
    "  **con** :\n",
    "\n",
    "        - We need to know all the environments at each iterations\n",
    "        - Maybe not compatible with Onos ? wait and see\n",
    "        \n",
    "### Purement Heuristiques:\n",
    " **pro** :\n",
    "\n",
    "        -Can find the best way to minimize the cost(time) \n",
    "        -Can be put in a complex algorithm to solve our problem\n",
    "        \n",
    "  **con** :\n",
    "\n",
    "        - We need to know all the environments at each iterations\n",
    "        - Takes lots of computational capacities\n",
    "        - Maybe not compatible with Onos ? wait and see\n",
    "\n",
    "### Purement RL:\n",
    " **pro** :\n",
    "\n",
    "        -Can find new ways to minimize the cost(time) \n",
    "        -Can be put in a complex algorithm to solve our problem\n",
    "        \n",
    "  **con** :\n",
    "\n",
    "        - We need to know all the environments at each iterations\n",
    "        - Takes lots of computational capacities\n",
    "        - Maybe not compatible with Onos ? wait and see\n",
    "\n",
    "### Mix des 3\n",
    " **pro** :\n",
    "\n",
    "        -Can find best ways to minimize the cost(time) in all situations\n",
    "        \n",
    "  **con** :\n",
    "\n",
    "        - We need to know all the environments at each iterations\n",
    "        - Takes LOTS of computational capacities\n",
    "        - Maybe not compatible with Onos ? wait and see\n",
    "\n",
    "\n",
    "    "
   ]
  },
  {
   "cell_type": "code",
   "execution_count": null,
   "metadata": {},
   "outputs": [],
   "source": []
  }
 ],
 "metadata": {
  "kernelspec": {
   "display_name": "Python 3",
   "language": "python",
   "name": "python3"
  },
  "language_info": {
   "codemirror_mode": {
    "name": "ipython",
    "version": 3
   },
   "file_extension": ".py",
   "mimetype": "text/x-python",
   "name": "python",
   "nbconvert_exporter": "python",
   "pygments_lexer": "ipython3",
   "version": "3.7.6"
  }
 },
 "nbformat": 4,
 "nbformat_minor": 4
}
